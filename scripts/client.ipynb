{
 "cells": [
  {
   "cell_type": "code",
   "execution_count": 1,
   "metadata": {},
   "outputs": [],
   "source": [
    "import requests\n",
    "host = 'http://localhost'"
   ]
  },
  {
   "cell_type": "code",
   "execution_count": 9,
   "metadata": {},
   "outputs": [
    {
     "data": {
      "text/plain": [
       "'\\n\\n1. A man playing football in a muddy field with a rainstorm in the background.\\n2. A man playing football on a professional football field with a large crowd cheering in the stands.\\n3. A man playing football on a sunny day with a blue sky and fluffy white clouds.\\n4. A man playing football in a dimly lit indoor stadium with a single spotlight shining down on him.</s>'"
      ]
     },
     "execution_count": 9,
     "metadata": {},
     "output_type": "execute_result"
    }
   ],
   "source": [
    "port = 6692\n",
    "api = 'call'\n",
    "data = {\n",
    "    'prompt': 'four scenarios (environment, position, etc.) of \"A man playing football\": ',\n",
    "    'num_beams': 1,\n",
    "    'do_sample': True,\n",
    "    'max_new_tokens': 100,\n",
    "}\n",
    "\n",
    "requests.post(url=f'{host}:{port}/{api}', json=data).text"
   ]
  },
  {
   "cell_type": "code",
   "execution_count": 10,
   "metadata": {},
   "outputs": [
    {
     "data": {
      "text/plain": [
       "'\\n\\n1. Sunny day\\n2. Stadium\\n3. Football field\\n4. Athlete</s>'"
      ]
     },
     "execution_count": 10,
     "metadata": {},
     "output_type": "execute_result"
    }
   ],
   "source": [
    "port = 6692\n",
    "api = 'other_func'\n",
    "data = {\n",
    "    'func_name': 'qa',\n",
    "    'prompt': 'come up with four scenarios (environment, position, etc.) of \"A man playing football\", just respond with four items without extra messages',\n",
    "    'num_beams': 1,\n",
    "    'do_sample': True,\n",
    "    'max_new_tokens': 100,\n",
    "}\n",
    "\n",
    "requests.post(url=f'{host}:{port}/{api}', json=data).text"
   ]
  }
 ],
 "metadata": {
  "kernelspec": {
   "display_name": "torch121",
   "language": "python",
   "name": "python3"
  },
  "language_info": {
   "codemirror_mode": {
    "name": "ipython",
    "version": 3
   },
   "file_extension": ".py",
   "mimetype": "text/x-python",
   "name": "python",
   "nbconvert_exporter": "python",
   "pygments_lexer": "ipython3",
   "version": "3.11.7"
  }
 },
 "nbformat": 4,
 "nbformat_minor": 2
}
