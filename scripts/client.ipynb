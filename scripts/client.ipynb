{
 "cells": [
  {
   "cell_type": "code",
   "execution_count": 1,
   "metadata": {},
   "outputs": [],
   "source": [
    "import requests\n",
    "host = 'http://localhost'"
   ]
  },
  {
   "cell_type": "code",
   "execution_count": 11,
   "metadata": {},
   "outputs": [
    {
     "data": {
      "text/plain": [
       "'1, the play has changed, it should be used to catch up; 2, he has a lot of open space in front of him, so I want him to be as quickly as possible into the ball; 3, he has a lot of open spaces around him, you can do the football to him, let him get the ball behind him; 4, he has less open spaces, you can find an open places to go and play football. When you play football for the'"
      ]
     },
     "execution_count": 11,
     "metadata": {},
     "output_type": "execute_result"
    }
   ],
   "source": [
    "port = 6692\n",
    "api = 'call'\n",
    "data = {\n",
    "    'prompt': 'four scenarios that \"A man playing football\" most likely to happen: ',\n",
    "    'num_beams': 1,\n",
    "    'do_sample': True,\n",
    "    'max_new_tokens': 100,\n",
    "}\n",
    "\n",
    "requests.post(url=f'{host}:{port}/{api}', json=data).text"
   ]
  }
 ],
 "metadata": {
  "kernelspec": {
   "display_name": "torch121",
   "language": "python",
   "name": "python3"
  },
  "language_info": {
   "codemirror_mode": {
    "name": "ipython",
    "version": 3
   },
   "file_extension": ".py",
   "mimetype": "text/x-python",
   "name": "python",
   "nbconvert_exporter": "python",
   "pygments_lexer": "ipython3",
   "version": "3.11.7"
  }
 },
 "nbformat": 4,
 "nbformat_minor": 2
}
